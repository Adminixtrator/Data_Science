{
 "cells": [
  {
   "cell_type": "code",
   "execution_count": 1,
   "metadata": {},
   "outputs": [
    {
     "ename": "SyntaxError",
     "evalue": "invalid syntax (<ipython-input-1-10da2bade058>, line 9)",
     "output_type": "error",
     "traceback": [
      "\u001b[1;36m  File \u001b[1;32m\"<ipython-input-1-10da2bade058>\"\u001b[1;36m, line \u001b[1;32m9\u001b[0m\n\u001b[1;33m    return a0*np.exp(-(x - b0)**2)/2c0**2 + a1*np.exp(-(x - b1)**2)/2c1**2\u001b[0m\n\u001b[1;37m                                     ^\u001b[0m\n\u001b[1;31mSyntaxError\u001b[0m\u001b[1;31m:\u001b[0m invalid syntax\n"
     ]
    }
   ],
   "source": [
    "import numpy as np\n",
    "from scipy.optimize import curve_fit\n",
    "\n",
    "#--------For the function\n",
    "#        a∗exp{−(x −μ)**2} / 2σ**2 \n",
    "#Gaussian proﬁle,non-linear equation.Double graph.\n",
    "\n",
    "def func(x,a0,b0,c0,a1,b1,c1):\n",
    "    return a0*np.exp(-(x - b0)**2)/2c0**2 + a1*np.exp(-(x - b1)**2)/2c1**2\n",
    "\n",
    "x = np.linspace(0,1,100)\n",
    "y = func(x,2,1,3,4,2,2)\n",
    "yn = y + 0.2 * np.random.normal(size =len(x))       # Noised y..\n",
    "# Generating best fit values..\n",
    "guesses = [2,3,4,1,5,3]\n",
    "popt, pcov = curve_fit(func, x, yn, po = guesses)\n",
    "print(popt,'\\n',pcov);"
   ]
  },
  {
   "cell_type": "code",
   "execution_count": null,
   "metadata": {},
   "outputs": [],
   "source": []
  }
 ],
 "metadata": {
  "kernelspec": {
   "display_name": "Python 3",
   "language": "python",
   "name": "python3"
  },
  "language_info": {
   "codemirror_mode": {
    "name": "ipython",
    "version": 3
   },
   "file_extension": ".py",
   "mimetype": "text/x-python",
   "name": "python",
   "nbconvert_exporter": "python",
   "pygments_lexer": "ipython3",
   "version": "3.7.2"
  }
 },
 "nbformat": 4,
 "nbformat_minor": 2
}
